{
 "cells": [
  {
   "cell_type": "code",
   "execution_count": 1,
   "metadata": {},
   "outputs": [],
   "source": [
    "import pandas as pd\n",
    "import numpy as np\n",
    "import pymongo"
   ]
  },
  {
   "cell_type": "code",
   "execution_count": 2,
   "metadata": {},
   "outputs": [
    {
     "name": "stdout",
     "output_type": "stream",
     "text": [
      "     CustomerID   Genre  Age  Annual_Income_(k$)  Spending_Score\n",
      "0             1    Male   19                  15              39\n",
      "1             2    Male   21                  15              81\n",
      "2             3  Female   20                  16               6\n",
      "3             4  Female   23                  16              77\n",
      "4             5  Female   31                  17              40\n",
      "5             6  Female   22                  17              76\n",
      "6             7  Female   35                  18               6\n",
      "7             8  Female   23                  18              94\n",
      "8             9    Male   64                  19               3\n",
      "9            10  Female   30                  19              72\n",
      "10           11    Male   67                  19              14\n",
      "11           12  Female   35                  19              99\n",
      "12           13  Female   58                  20              15\n",
      "13           14  Female   24                  20              77\n",
      "14           15    Male   37                  20              13\n",
      "15           16    Male   22                  20              79\n",
      "16           17  Female   35                  21              35\n",
      "17           18    Male   20                  21              66\n",
      "18           19    Male   52                  23              29\n",
      "19           20  Female   35                  23              98\n",
      "20           21    Male   35                  24              35\n",
      "21           22    Male   25                  24              73\n",
      "22           23  Female   46                  25               5\n",
      "23           24    Male   31                  25              73\n",
      "24           25  Female   54                  28              14\n",
      "25           26    Male   29                  28              82\n",
      "26           27  Female   45                  28              32\n",
      "27           28    Male   35                  28              61\n",
      "28           29  Female   40                  29              31\n",
      "29           30  Female   23                  29              87\n",
      "..          ...     ...  ...                 ...             ...\n",
      "170         171    Male   40                  87              13\n",
      "171         172    Male   28                  87              75\n",
      "172         173    Male   36                  87              10\n",
      "173         174    Male   36                  87              92\n",
      "174         175  Female   52                  88              13\n",
      "175         176  Female   30                  88              86\n",
      "176         177    Male   58                  88              15\n",
      "177         178    Male   27                  88              69\n",
      "178         179    Male   59                  93              14\n",
      "179         180    Male   35                  93              90\n",
      "180         181  Female   37                  97              32\n",
      "181         182  Female   32                  97              86\n",
      "182         183    Male   46                  98              15\n",
      "183         184  Female   29                  98              88\n",
      "184         185  Female   41                  99              39\n",
      "185         186    Male   30                  99              97\n",
      "186         187  Female   54                 101              24\n",
      "187         188    Male   28                 101              68\n",
      "188         189  Female   41                 103              17\n",
      "189         190  Female   36                 103              85\n",
      "190         191  Female   34                 103              23\n",
      "191         192  Female   32                 103              69\n",
      "192         193    Male   33                 113               8\n",
      "193         194  Female   38                 113              91\n",
      "194         195  Female   47                 120              16\n",
      "195         196  Female   35                 120              79\n",
      "196         197  Female   45                 126              28\n",
      "197         198    Male   32                 126              74\n",
      "198         199    Male   32                 137              18\n",
      "199         200    Male   30                 137              83\n",
      "\n",
      "[200 rows x 5 columns]\n"
     ]
    }
   ],
   "source": [
    "df = pd.read_csv(\"Mall_Customers - Mall_Customers.csv\")\n",
    "print(df)"
   ]
  },
  {
   "cell_type": "code",
   "execution_count": null,
   "metadata": {},
   "outputs": [],
   "source": [
    "database = pymongo.MongoClient('localhost', '27017')\n",
    "db = database['samples']\n",
    "collection = db['wow']"
   ]
  },
  {
   "cell_type": "code",
   "execution_count": 3,
   "metadata": {},
   "outputs": [
    {
     "name": "stdout",
     "output_type": "stream",
     "text": [
      "[{'CustomerID': 1, 'Genre': 'Male', 'Age': 19, 'Annual_Income_(k$)': 15, 'Spending_Score': 39}, {'CustomerID': 2, 'Genre': 'Male', 'Age': 21, 'Annual_Income_(k$)': 15, 'Spending_Score': 81}, {'CustomerID': 3, 'Genre': 'Female', 'Age': 20, 'Annual_Income_(k$)': 16, 'Spending_Score': 6}, {'CustomerID': 4, 'Genre': 'Female', 'Age': 23, 'Annual_Income_(k$)': 16, 'Spending_Score': 77}, {'CustomerID': 5, 'Genre': 'Female', 'Age': 31, 'Annual_Income_(k$)': 17, 'Spending_Score': 40}, {'CustomerID': 6, 'Genre': 'Female', 'Age': 22, 'Annual_Income_(k$)': 17, 'Spending_Score': 76}, {'CustomerID': 7, 'Genre': 'Female', 'Age': 35, 'Annual_Income_(k$)': 18, 'Spending_Score': 6}, {'CustomerID': 8, 'Genre': 'Female', 'Age': 23, 'Annual_Income_(k$)': 18, 'Spending_Score': 94}, {'CustomerID': 9, 'Genre': 'Male', 'Age': 64, 'Annual_Income_(k$)': 19, 'Spending_Score': 3}, {'CustomerID': 10, 'Genre': 'Female', 'Age': 30, 'Annual_Income_(k$)': 19, 'Spending_Score': 72}, {'CustomerID': 11, 'Genre': 'Male', 'Age': 67, 'Annual_Income_(k$)': 19, 'Spending_Score': 14}, {'CustomerID': 12, 'Genre': 'Female', 'Age': 35, 'Annual_Income_(k$)': 19, 'Spending_Score': 99}, {'CustomerID': 13, 'Genre': 'Female', 'Age': 58, 'Annual_Income_(k$)': 20, 'Spending_Score': 15}, {'CustomerID': 14, 'Genre': 'Female', 'Age': 24, 'Annual_Income_(k$)': 20, 'Spending_Score': 77}, {'CustomerID': 15, 'Genre': 'Male', 'Age': 37, 'Annual_Income_(k$)': 20, 'Spending_Score': 13}, {'CustomerID': 16, 'Genre': 'Male', 'Age': 22, 'Annual_Income_(k$)': 20, 'Spending_Score': 79}, {'CustomerID': 17, 'Genre': 'Female', 'Age': 35, 'Annual_Income_(k$)': 21, 'Spending_Score': 35}, {'CustomerID': 18, 'Genre': 'Male', 'Age': 20, 'Annual_Income_(k$)': 21, 'Spending_Score': 66}, {'CustomerID': 19, 'Genre': 'Male', 'Age': 52, 'Annual_Income_(k$)': 23, 'Spending_Score': 29}, {'CustomerID': 20, 'Genre': 'Female', 'Age': 35, 'Annual_Income_(k$)': 23, 'Spending_Score': 98}, {'CustomerID': 21, 'Genre': 'Male', 'Age': 35, 'Annual_Income_(k$)': 24, 'Spending_Score': 35}, {'CustomerID': 22, 'Genre': 'Male', 'Age': 25, 'Annual_Income_(k$)': 24, 'Spending_Score': 73}, {'CustomerID': 23, 'Genre': 'Female', 'Age': 46, 'Annual_Income_(k$)': 25, 'Spending_Score': 5}, {'CustomerID': 24, 'Genre': 'Male', 'Age': 31, 'Annual_Income_(k$)': 25, 'Spending_Score': 73}, {'CustomerID': 25, 'Genre': 'Female', 'Age': 54, 'Annual_Income_(k$)': 28, 'Spending_Score': 14}, {'CustomerID': 26, 'Genre': 'Male', 'Age': 29, 'Annual_Income_(k$)': 28, 'Spending_Score': 82}, {'CustomerID': 27, 'Genre': 'Female', 'Age': 45, 'Annual_Income_(k$)': 28, 'Spending_Score': 32}, {'CustomerID': 28, 'Genre': 'Male', 'Age': 35, 'Annual_Income_(k$)': 28, 'Spending_Score': 61}, {'CustomerID': 29, 'Genre': 'Female', 'Age': 40, 'Annual_Income_(k$)': 29, 'Spending_Score': 31}, {'CustomerID': 30, 'Genre': 'Female', 'Age': 23, 'Annual_Income_(k$)': 29, 'Spending_Score': 87}, {'CustomerID': 31, 'Genre': 'Male', 'Age': 60, 'Annual_Income_(k$)': 30, 'Spending_Score': 4}, {'CustomerID': 32, 'Genre': 'Female', 'Age': 21, 'Annual_Income_(k$)': 30, 'Spending_Score': 73}, {'CustomerID': 33, 'Genre': 'Male', 'Age': 53, 'Annual_Income_(k$)': 33, 'Spending_Score': 4}, {'CustomerID': 34, 'Genre': 'Male', 'Age': 18, 'Annual_Income_(k$)': 33, 'Spending_Score': 92}, {'CustomerID': 35, 'Genre': 'Female', 'Age': 49, 'Annual_Income_(k$)': 33, 'Spending_Score': 14}, {'CustomerID': 36, 'Genre': 'Female', 'Age': 21, 'Annual_Income_(k$)': 33, 'Spending_Score': 81}, {'CustomerID': 37, 'Genre': 'Female', 'Age': 42, 'Annual_Income_(k$)': 34, 'Spending_Score': 17}, {'CustomerID': 38, 'Genre': 'Female', 'Age': 30, 'Annual_Income_(k$)': 34, 'Spending_Score': 73}, {'CustomerID': 39, 'Genre': 'Female', 'Age': 36, 'Annual_Income_(k$)': 37, 'Spending_Score': 26}, {'CustomerID': 40, 'Genre': 'Female', 'Age': 20, 'Annual_Income_(k$)': 37, 'Spending_Score': 75}, {'CustomerID': 41, 'Genre': 'Female', 'Age': 65, 'Annual_Income_(k$)': 38, 'Spending_Score': 35}, {'CustomerID': 42, 'Genre': 'Male', 'Age': 24, 'Annual_Income_(k$)': 38, 'Spending_Score': 92}, {'CustomerID': 43, 'Genre': 'Male', 'Age': 48, 'Annual_Income_(k$)': 39, 'Spending_Score': 36}, {'CustomerID': 44, 'Genre': 'Female', 'Age': 31, 'Annual_Income_(k$)': 39, 'Spending_Score': 61}, {'CustomerID': 45, 'Genre': 'Female', 'Age': 49, 'Annual_Income_(k$)': 39, 'Spending_Score': 28}, {'CustomerID': 46, 'Genre': 'Female', 'Age': 24, 'Annual_Income_(k$)': 39, 'Spending_Score': 65}, {'CustomerID': 47, 'Genre': 'Female', 'Age': 50, 'Annual_Income_(k$)': 40, 'Spending_Score': 55}, {'CustomerID': 48, 'Genre': 'Female', 'Age': 27, 'Annual_Income_(k$)': 40, 'Spending_Score': 47}, {'CustomerID': 49, 'Genre': 'Female', 'Age': 29, 'Annual_Income_(k$)': 40, 'Spending_Score': 42}, {'CustomerID': 50, 'Genre': 'Female', 'Age': 31, 'Annual_Income_(k$)': 40, 'Spending_Score': 42}, {'CustomerID': 51, 'Genre': 'Female', 'Age': 49, 'Annual_Income_(k$)': 42, 'Spending_Score': 52}, {'CustomerID': 52, 'Genre': 'Male', 'Age': 33, 'Annual_Income_(k$)': 42, 'Spending_Score': 60}, {'CustomerID': 53, 'Genre': 'Female', 'Age': 31, 'Annual_Income_(k$)': 43, 'Spending_Score': 54}, {'CustomerID': 54, 'Genre': 'Male', 'Age': 59, 'Annual_Income_(k$)': 43, 'Spending_Score': 60}, {'CustomerID': 55, 'Genre': 'Female', 'Age': 50, 'Annual_Income_(k$)': 43, 'Spending_Score': 45}, {'CustomerID': 56, 'Genre': 'Male', 'Age': 47, 'Annual_Income_(k$)': 43, 'Spending_Score': 41}, {'CustomerID': 57, 'Genre': 'Female', 'Age': 51, 'Annual_Income_(k$)': 44, 'Spending_Score': 50}, {'CustomerID': 58, 'Genre': 'Male', 'Age': 69, 'Annual_Income_(k$)': 44, 'Spending_Score': 46}, {'CustomerID': 59, 'Genre': 'Female', 'Age': 27, 'Annual_Income_(k$)': 46, 'Spending_Score': 51}, {'CustomerID': 60, 'Genre': 'Male', 'Age': 53, 'Annual_Income_(k$)': 46, 'Spending_Score': 46}, {'CustomerID': 61, 'Genre': 'Male', 'Age': 70, 'Annual_Income_(k$)': 46, 'Spending_Score': 56}, {'CustomerID': 62, 'Genre': 'Male', 'Age': 19, 'Annual_Income_(k$)': 46, 'Spending_Score': 55}, {'CustomerID': 63, 'Genre': 'Female', 'Age': 67, 'Annual_Income_(k$)': 47, 'Spending_Score': 52}, {'CustomerID': 64, 'Genre': 'Female', 'Age': 54, 'Annual_Income_(k$)': 47, 'Spending_Score': 59}, {'CustomerID': 65, 'Genre': 'Male', 'Age': 63, 'Annual_Income_(k$)': 48, 'Spending_Score': 51}, {'CustomerID': 66, 'Genre': 'Male', 'Age': 18, 'Annual_Income_(k$)': 48, 'Spending_Score': 59}, {'CustomerID': 67, 'Genre': 'Female', 'Age': 43, 'Annual_Income_(k$)': 48, 'Spending_Score': 50}, {'CustomerID': 68, 'Genre': 'Female', 'Age': 68, 'Annual_Income_(k$)': 48, 'Spending_Score': 48}, {'CustomerID': 69, 'Genre': 'Male', 'Age': 19, 'Annual_Income_(k$)': 48, 'Spending_Score': 59}, {'CustomerID': 70, 'Genre': 'Female', 'Age': 32, 'Annual_Income_(k$)': 48, 'Spending_Score': 47}, {'CustomerID': 71, 'Genre': 'Male', 'Age': 70, 'Annual_Income_(k$)': 49, 'Spending_Score': 55}, {'CustomerID': 72, 'Genre': 'Female', 'Age': 47, 'Annual_Income_(k$)': 49, 'Spending_Score': 42}, {'CustomerID': 73, 'Genre': 'Female', 'Age': 60, 'Annual_Income_(k$)': 50, 'Spending_Score': 49}, {'CustomerID': 74, 'Genre': 'Female', 'Age': 60, 'Annual_Income_(k$)': 50, 'Spending_Score': 56}, {'CustomerID': 75, 'Genre': 'Male', 'Age': 59, 'Annual_Income_(k$)': 54, 'Spending_Score': 47}, {'CustomerID': 76, 'Genre': 'Male', 'Age': 26, 'Annual_Income_(k$)': 54, 'Spending_Score': 54}, {'CustomerID': 77, 'Genre': 'Female', 'Age': 45, 'Annual_Income_(k$)': 54, 'Spending_Score': 53}, {'CustomerID': 78, 'Genre': 'Male', 'Age': 40, 'Annual_Income_(k$)': 54, 'Spending_Score': 48}, {'CustomerID': 79, 'Genre': 'Female', 'Age': 23, 'Annual_Income_(k$)': 54, 'Spending_Score': 52}, {'CustomerID': 80, 'Genre': 'Female', 'Age': 49, 'Annual_Income_(k$)': 54, 'Spending_Score': 42}, {'CustomerID': 81, 'Genre': 'Male', 'Age': 57, 'Annual_Income_(k$)': 54, 'Spending_Score': 51}, {'CustomerID': 82, 'Genre': 'Male', 'Age': 38, 'Annual_Income_(k$)': 54, 'Spending_Score': 55}, {'CustomerID': 83, 'Genre': 'Male', 'Age': 67, 'Annual_Income_(k$)': 54, 'Spending_Score': 41}, {'CustomerID': 84, 'Genre': 'Female', 'Age': 46, 'Annual_Income_(k$)': 54, 'Spending_Score': 44}, {'CustomerID': 85, 'Genre': 'Female', 'Age': 21, 'Annual_Income_(k$)': 54, 'Spending_Score': 57}, {'CustomerID': 86, 'Genre': 'Male', 'Age': 48, 'Annual_Income_(k$)': 54, 'Spending_Score': 46}, {'CustomerID': 87, 'Genre': 'Female', 'Age': 55, 'Annual_Income_(k$)': 57, 'Spending_Score': 58}, {'CustomerID': 88, 'Genre': 'Female', 'Age': 22, 'Annual_Income_(k$)': 57, 'Spending_Score': 55}, {'CustomerID': 89, 'Genre': 'Female', 'Age': 34, 'Annual_Income_(k$)': 58, 'Spending_Score': 60}, {'CustomerID': 90, 'Genre': 'Female', 'Age': 50, 'Annual_Income_(k$)': 58, 'Spending_Score': 46}, {'CustomerID': 91, 'Genre': 'Female', 'Age': 68, 'Annual_Income_(k$)': 59, 'Spending_Score': 55}, {'CustomerID': 92, 'Genre': 'Male', 'Age': 18, 'Annual_Income_(k$)': 59, 'Spending_Score': 41}, {'CustomerID': 93, 'Genre': 'Male', 'Age': 48, 'Annual_Income_(k$)': 60, 'Spending_Score': 49}, {'CustomerID': 94, 'Genre': 'Female', 'Age': 40, 'Annual_Income_(k$)': 60, 'Spending_Score': 40}, {'CustomerID': 95, 'Genre': 'Female', 'Age': 32, 'Annual_Income_(k$)': 60, 'Spending_Score': 42}, {'CustomerID': 96, 'Genre': 'Male', 'Age': 24, 'Annual_Income_(k$)': 60, 'Spending_Score': 52}, {'CustomerID': 97, 'Genre': 'Female', 'Age': 47, 'Annual_Income_(k$)': 60, 'Spending_Score': 47}, {'CustomerID': 98, 'Genre': 'Female', 'Age': 27, 'Annual_Income_(k$)': 60, 'Spending_Score': 50}, {'CustomerID': 99, 'Genre': 'Male', 'Age': 48, 'Annual_Income_(k$)': 61, 'Spending_Score': 42}, {'CustomerID': 100, 'Genre': 'Male', 'Age': 20, 'Annual_Income_(k$)': 61, 'Spending_Score': 49}, {'CustomerID': 101, 'Genre': 'Female', 'Age': 23, 'Annual_Income_(k$)': 62, 'Spending_Score': 41}, {'CustomerID': 102, 'Genre': 'Female', 'Age': 49, 'Annual_Income_(k$)': 62, 'Spending_Score': 48}, {'CustomerID': 103, 'Genre': 'Male', 'Age': 67, 'Annual_Income_(k$)': 62, 'Spending_Score': 59}, {'CustomerID': 104, 'Genre': 'Male', 'Age': 26, 'Annual_Income_(k$)': 62, 'Spending_Score': 55}, {'CustomerID': 105, 'Genre': 'Male', 'Age': 49, 'Annual_Income_(k$)': 62, 'Spending_Score': 56}, {'CustomerID': 106, 'Genre': 'Female', 'Age': 21, 'Annual_Income_(k$)': 62, 'Spending_Score': 42}, {'CustomerID': 107, 'Genre': 'Female', 'Age': 66, 'Annual_Income_(k$)': 63, 'Spending_Score': 50}, {'CustomerID': 108, 'Genre': 'Male', 'Age': 54, 'Annual_Income_(k$)': 63, 'Spending_Score': 46}, {'CustomerID': 109, 'Genre': 'Male', 'Age': 68, 'Annual_Income_(k$)': 63, 'Spending_Score': 43}, {'CustomerID': 110, 'Genre': 'Male', 'Age': 66, 'Annual_Income_(k$)': 63, 'Spending_Score': 48}, {'CustomerID': 111, 'Genre': 'Male', 'Age': 65, 'Annual_Income_(k$)': 63, 'Spending_Score': 52}, {'CustomerID': 112, 'Genre': 'Female', 'Age': 19, 'Annual_Income_(k$)': 63, 'Spending_Score': 54}, {'CustomerID': 113, 'Genre': 'Female', 'Age': 38, 'Annual_Income_(k$)': 64, 'Spending_Score': 42}, {'CustomerID': 114, 'Genre': 'Male', 'Age': 19, 'Annual_Income_(k$)': 64, 'Spending_Score': 46}, {'CustomerID': 115, 'Genre': 'Female', 'Age': 18, 'Annual_Income_(k$)': 65, 'Spending_Score': 48}, {'CustomerID': 116, 'Genre': 'Female', 'Age': 19, 'Annual_Income_(k$)': 65, 'Spending_Score': 50}, {'CustomerID': 117, 'Genre': 'Female', 'Age': 63, 'Annual_Income_(k$)': 65, 'Spending_Score': 43}, {'CustomerID': 118, 'Genre': 'Female', 'Age': 49, 'Annual_Income_(k$)': 65, 'Spending_Score': 59}, {'CustomerID': 119, 'Genre': 'Female', 'Age': 51, 'Annual_Income_(k$)': 67, 'Spending_Score': 43}, {'CustomerID': 120, 'Genre': 'Female', 'Age': 50, 'Annual_Income_(k$)': 67, 'Spending_Score': 57}, {'CustomerID': 121, 'Genre': 'Male', 'Age': 27, 'Annual_Income_(k$)': 67, 'Spending_Score': 56}, {'CustomerID': 122, 'Genre': 'Female', 'Age': 38, 'Annual_Income_(k$)': 67, 'Spending_Score': 40}, {'CustomerID': 123, 'Genre': 'Female', 'Age': 40, 'Annual_Income_(k$)': 69, 'Spending_Score': 58}, {'CustomerID': 124, 'Genre': 'Male', 'Age': 39, 'Annual_Income_(k$)': 69, 'Spending_Score': 91}, {'CustomerID': 125, 'Genre': 'Female', 'Age': 23, 'Annual_Income_(k$)': 70, 'Spending_Score': 29}, {'CustomerID': 126, 'Genre': 'Female', 'Age': 31, 'Annual_Income_(k$)': 70, 'Spending_Score': 77}, {'CustomerID': 127, 'Genre': 'Male', 'Age': 43, 'Annual_Income_(k$)': 71, 'Spending_Score': 35}, {'CustomerID': 128, 'Genre': 'Male', 'Age': 40, 'Annual_Income_(k$)': 71, 'Spending_Score': 95}, {'CustomerID': 129, 'Genre': 'Male', 'Age': 59, 'Annual_Income_(k$)': 71, 'Spending_Score': 11}, {'CustomerID': 130, 'Genre': 'Male', 'Age': 38, 'Annual_Income_(k$)': 71, 'Spending_Score': 75}, {'CustomerID': 131, 'Genre': 'Male', 'Age': 47, 'Annual_Income_(k$)': 71, 'Spending_Score': 9}, {'CustomerID': 132, 'Genre': 'Male', 'Age': 39, 'Annual_Income_(k$)': 71, 'Spending_Score': 75}, {'CustomerID': 133, 'Genre': 'Female', 'Age': 25, 'Annual_Income_(k$)': 72, 'Spending_Score': 34}, {'CustomerID': 134, 'Genre': 'Female', 'Age': 31, 'Annual_Income_(k$)': 72, 'Spending_Score': 71}, {'CustomerID': 135, 'Genre': 'Male', 'Age': 20, 'Annual_Income_(k$)': 73, 'Spending_Score': 5}, {'CustomerID': 136, 'Genre': 'Female', 'Age': 29, 'Annual_Income_(k$)': 73, 'Spending_Score': 88}, {'CustomerID': 137, 'Genre': 'Female', 'Age': 44, 'Annual_Income_(k$)': 73, 'Spending_Score': 7}, {'CustomerID': 138, 'Genre': 'Male', 'Age': 32, 'Annual_Income_(k$)': 73, 'Spending_Score': 73}, {'CustomerID': 139, 'Genre': 'Male', 'Age': 19, 'Annual_Income_(k$)': 74, 'Spending_Score': 10}, {'CustomerID': 140, 'Genre': 'Female', 'Age': 35, 'Annual_Income_(k$)': 74, 'Spending_Score': 72}, {'CustomerID': 141, 'Genre': 'Female', 'Age': 57, 'Annual_Income_(k$)': 75, 'Spending_Score': 5}, {'CustomerID': 142, 'Genre': 'Male', 'Age': 32, 'Annual_Income_(k$)': 75, 'Spending_Score': 93}, {'CustomerID': 143, 'Genre': 'Female', 'Age': 28, 'Annual_Income_(k$)': 76, 'Spending_Score': 40}, {'CustomerID': 144, 'Genre': 'Female', 'Age': 32, 'Annual_Income_(k$)': 76, 'Spending_Score': 87}, {'CustomerID': 145, 'Genre': 'Male', 'Age': 25, 'Annual_Income_(k$)': 77, 'Spending_Score': 12}, {'CustomerID': 146, 'Genre': 'Male', 'Age': 28, 'Annual_Income_(k$)': 77, 'Spending_Score': 97}, {'CustomerID': 147, 'Genre': 'Male', 'Age': 48, 'Annual_Income_(k$)': 77, 'Spending_Score': 36}, {'CustomerID': 148, 'Genre': 'Female', 'Age': 32, 'Annual_Income_(k$)': 77, 'Spending_Score': 74}, {'CustomerID': 149, 'Genre': 'Female', 'Age': 34, 'Annual_Income_(k$)': 78, 'Spending_Score': 22}, {'CustomerID': 150, 'Genre': 'Male', 'Age': 34, 'Annual_Income_(k$)': 78, 'Spending_Score': 90}, {'CustomerID': 151, 'Genre': 'Male', 'Age': 43, 'Annual_Income_(k$)': 78, 'Spending_Score': 17}, {'CustomerID': 152, 'Genre': 'Male', 'Age': 39, 'Annual_Income_(k$)': 78, 'Spending_Score': 88}, {'CustomerID': 153, 'Genre': 'Female', 'Age': 44, 'Annual_Income_(k$)': 78, 'Spending_Score': 20}, {'CustomerID': 154, 'Genre': 'Female', 'Age': 38, 'Annual_Income_(k$)': 78, 'Spending_Score': 76}, {'CustomerID': 155, 'Genre': 'Female', 'Age': 47, 'Annual_Income_(k$)': 78, 'Spending_Score': 16}, {'CustomerID': 156, 'Genre': 'Female', 'Age': 27, 'Annual_Income_(k$)': 78, 'Spending_Score': 89}, {'CustomerID': 157, 'Genre': 'Male', 'Age': 37, 'Annual_Income_(k$)': 78, 'Spending_Score': 1}, {'CustomerID': 158, 'Genre': 'Female', 'Age': 30, 'Annual_Income_(k$)': 78, 'Spending_Score': 78}, {'CustomerID': 159, 'Genre': 'Male', 'Age': 34, 'Annual_Income_(k$)': 78, 'Spending_Score': 1}, {'CustomerID': 160, 'Genre': 'Female', 'Age': 30, 'Annual_Income_(k$)': 78, 'Spending_Score': 73}, {'CustomerID': 161, 'Genre': 'Female', 'Age': 56, 'Annual_Income_(k$)': 79, 'Spending_Score': 35}, {'CustomerID': 162, 'Genre': 'Female', 'Age': 29, 'Annual_Income_(k$)': 79, 'Spending_Score': 83}, {'CustomerID': 163, 'Genre': 'Male', 'Age': 19, 'Annual_Income_(k$)': 81, 'Spending_Score': 5}, {'CustomerID': 164, 'Genre': 'Female', 'Age': 31, 'Annual_Income_(k$)': 81, 'Spending_Score': 93}, {'CustomerID': 165, 'Genre': 'Male', 'Age': 50, 'Annual_Income_(k$)': 85, 'Spending_Score': 26}, {'CustomerID': 166, 'Genre': 'Female', 'Age': 36, 'Annual_Income_(k$)': 85, 'Spending_Score': 75}, {'CustomerID': 167, 'Genre': 'Male', 'Age': 42, 'Annual_Income_(k$)': 86, 'Spending_Score': 20}, {'CustomerID': 168, 'Genre': 'Female', 'Age': 33, 'Annual_Income_(k$)': 86, 'Spending_Score': 95}, {'CustomerID': 169, 'Genre': 'Female', 'Age': 36, 'Annual_Income_(k$)': 87, 'Spending_Score': 27}, {'CustomerID': 170, 'Genre': 'Male', 'Age': 32, 'Annual_Income_(k$)': 87, 'Spending_Score': 63}, {'CustomerID': 171, 'Genre': 'Male', 'Age': 40, 'Annual_Income_(k$)': 87, 'Spending_Score': 13}, {'CustomerID': 172, 'Genre': 'Male', 'Age': 28, 'Annual_Income_(k$)': 87, 'Spending_Score': 75}, {'CustomerID': 173, 'Genre': 'Male', 'Age': 36, 'Annual_Income_(k$)': 87, 'Spending_Score': 10}, {'CustomerID': 174, 'Genre': 'Male', 'Age': 36, 'Annual_Income_(k$)': 87, 'Spending_Score': 92}, {'CustomerID': 175, 'Genre': 'Female', 'Age': 52, 'Annual_Income_(k$)': 88, 'Spending_Score': 13}, {'CustomerID': 176, 'Genre': 'Female', 'Age': 30, 'Annual_Income_(k$)': 88, 'Spending_Score': 86}, {'CustomerID': 177, 'Genre': 'Male', 'Age': 58, 'Annual_Income_(k$)': 88, 'Spending_Score': 15}, {'CustomerID': 178, 'Genre': 'Male', 'Age': 27, 'Annual_Income_(k$)': 88, 'Spending_Score': 69}, {'CustomerID': 179, 'Genre': 'Male', 'Age': 59, 'Annual_Income_(k$)': 93, 'Spending_Score': 14}, {'CustomerID': 180, 'Genre': 'Male', 'Age': 35, 'Annual_Income_(k$)': 93, 'Spending_Score': 90}, {'CustomerID': 181, 'Genre': 'Female', 'Age': 37, 'Annual_Income_(k$)': 97, 'Spending_Score': 32}, {'CustomerID': 182, 'Genre': 'Female', 'Age': 32, 'Annual_Income_(k$)': 97, 'Spending_Score': 86}, {'CustomerID': 183, 'Genre': 'Male', 'Age': 46, 'Annual_Income_(k$)': 98, 'Spending_Score': 15}, {'CustomerID': 184, 'Genre': 'Female', 'Age': 29, 'Annual_Income_(k$)': 98, 'Spending_Score': 88}, {'CustomerID': 185, 'Genre': 'Female', 'Age': 41, 'Annual_Income_(k$)': 99, 'Spending_Score': 39}, {'CustomerID': 186, 'Genre': 'Male', 'Age': 30, 'Annual_Income_(k$)': 99, 'Spending_Score': 97}, {'CustomerID': 187, 'Genre': 'Female', 'Age': 54, 'Annual_Income_(k$)': 101, 'Spending_Score': 24}, {'CustomerID': 188, 'Genre': 'Male', 'Age': 28, 'Annual_Income_(k$)': 101, 'Spending_Score': 68}, {'CustomerID': 189, 'Genre': 'Female', 'Age': 41, 'Annual_Income_(k$)': 103, 'Spending_Score': 17}, {'CustomerID': 190, 'Genre': 'Female', 'Age': 36, 'Annual_Income_(k$)': 103, 'Spending_Score': 85}, {'CustomerID': 191, 'Genre': 'Female', 'Age': 34, 'Annual_Income_(k$)': 103, 'Spending_Score': 23}, {'CustomerID': 192, 'Genre': 'Female', 'Age': 32, 'Annual_Income_(k$)': 103, 'Spending_Score': 69}, {'CustomerID': 193, 'Genre': 'Male', 'Age': 33, 'Annual_Income_(k$)': 113, 'Spending_Score': 8}, {'CustomerID': 194, 'Genre': 'Female', 'Age': 38, 'Annual_Income_(k$)': 113, 'Spending_Score': 91}, {'CustomerID': 195, 'Genre': 'Female', 'Age': 47, 'Annual_Income_(k$)': 120, 'Spending_Score': 16}, {'CustomerID': 196, 'Genre': 'Female', 'Age': 35, 'Annual_Income_(k$)': 120, 'Spending_Score': 79}, {'CustomerID': 197, 'Genre': 'Female', 'Age': 45, 'Annual_Income_(k$)': 126, 'Spending_Score': 28}, {'CustomerID': 198, 'Genre': 'Male', 'Age': 32, 'Annual_Income_(k$)': 126, 'Spending_Score': 74}, {'CustomerID': 199, 'Genre': 'Male', 'Age': 32, 'Annual_Income_(k$)': 137, 'Spending_Score': 18}, {'CustomerID': 200, 'Genre': 'Male', 'Age': 30, 'Annual_Income_(k$)': 137, 'Spending_Score': 83}]\n"
     ]
    }
   ],
   "source": [
    "data_mongodb = df.to_dict('records')\n",
    "print(data_mongodb)"
   ]
  },
  {
   "cell_type": "code",
   "execution_count": null,
   "metadata": {},
   "outputs": [],
   "source": [
    "schema = {\n",
    "    'CustomerId' : Integer,\n",
    "    'Age': Integer\n",
    "    'Genre' : String,\n",
    "    'Annual Income' : Integer,\n",
    "    'Spending_Score' : Integer\n",
    "}"
   ]
  },
  {
   "cell_type": "code",
   "execution_count": 4,
   "metadata": {},
   "outputs": [
    {
     "name": "stdout",
     "output_type": "stream",
     "text": [
      "     CustomerID   Genre  Age  Annual_Income_(k$)  Spending_Score\n",
      "1             2    Male   21                  15              81\n",
      "2             3  Female   20                  16               6\n",
      "3             4  Female   23                  16              77\n",
      "5             6  Female   22                  17              76\n",
      "7             8  Female   23                  18              94\n",
      "13           14  Female   24                  20              77\n",
      "15           16    Male   22                  20              79\n",
      "17           18    Male   20                  21              66\n",
      "21           22    Male   25                  24              73\n",
      "29           30  Female   23                  29              87\n",
      "31           32  Female   21                  30              73\n",
      "35           36  Female   21                  33              81\n",
      "39           40  Female   20                  37              75\n",
      "41           42    Male   24                  38              92\n",
      "45           46  Female   24                  39              65\n",
      "78           79  Female   23                  54              52\n",
      "84           85  Female   21                  54              57\n",
      "87           88  Female   22                  57              55\n",
      "95           96    Male   24                  60              52\n",
      "99          100    Male   20                  61              49\n",
      "100         101  Female   23                  62              41\n",
      "105         106  Female   21                  62              42\n",
      "124         125  Female   23                  70              29\n",
      "132         133  Female   25                  72              34\n",
      "134         135    Male   20                  73               5\n",
      "144         145    Male   25                  77              12\n"
     ]
    }
   ],
   "source": [
    "print(df[(df['Age'] >= 20) & (df['Age'] <= 25)])"
   ]
  },
  {
   "cell_type": "code",
   "execution_count": 36,
   "metadata": {},
   "outputs": [
    {
     "name": "stdout",
     "output_type": "stream",
     "text": [
      "     CustomerID Genre  Age  Annual_Income_(k$)  Spending_Score\n",
      "156         157  Male   37                  78               1\n",
      "158         159  Male   34                  78               1\n",
      "    CustomerID   Genre  Age  Annual_Income_(k$)  Spending_Score\n",
      "11          12  Female   35                  19              99\n"
     ]
    }
   ],
   "source": [
    "\n",
    "print(df[df['Spending_Score'] == df['Spending_Score'].min()])\n",
    "print(df[df['Spending_Score'] == df['Spending_Score'].max()])"
   ]
  },
  {
   "cell_type": "code",
   "execution_count": 16,
   "metadata": {},
   "outputs": [
    {
     "name": "stdout",
     "output_type": "stream",
     "text": [
      "Genre\n",
      "Female    59.250000\n",
      "Male      62.227273\n",
      "Name: Annual_Income_(k$), dtype: float64\n"
     ]
    }
   ],
   "source": [
    "import matplotlib.pyplot as plt\n",
    "ww = df.groupby('Genre')['Annual_Income_(k$)'].mean()\n",
    "print(ww)"
   ]
  },
  {
   "cell_type": "code",
   "execution_count": 34,
   "metadata": {},
   "outputs": [
    {
     "ename": "AttributeError",
     "evalue": "'Line2D' object has no property 'type'",
     "output_type": "error",
     "traceback": [
      "\u001b[1;31m---------------------------------------------------------------------------\u001b[0m",
      "\u001b[1;31mAttributeError\u001b[0m                            Traceback (most recent call last)",
      "\u001b[1;32m<ipython-input-34-abd32d060bf5>\u001b[0m in \u001b[0;36m<module>\u001b[1;34m\u001b[0m\n\u001b[1;32m----> 1\u001b[1;33m \u001b[0mplt\u001b[0m\u001b[1;33m.\u001b[0m\u001b[0mplot\u001b[0m\u001b[1;33m(\u001b[0m\u001b[0mww\u001b[0m\u001b[1;33m,\u001b[0m \u001b[0mtype\u001b[0m\u001b[1;33m=\u001b[0m\u001b[1;34m\"pie-chart\"\u001b[0m\u001b[1;33m)\u001b[0m\u001b[1;33m\u001b[0m\u001b[1;33m\u001b[0m\u001b[0m\n\u001b[0m",
      "\u001b[1;32mC:\\ProgramData\\Anaconda3\\lib\\site-packages\\matplotlib\\pyplot.py\u001b[0m in \u001b[0;36mplot\u001b[1;34m(scalex, scaley, data, *args, **kwargs)\u001b[0m\n\u001b[0;32m   2787\u001b[0m     return gca().plot(\n\u001b[0;32m   2788\u001b[0m         *args, scalex=scalex, scaley=scaley, **({\"data\": data} if data\n\u001b[1;32m-> 2789\u001b[1;33m         is not None else {}), **kwargs)\n\u001b[0m\u001b[0;32m   2790\u001b[0m \u001b[1;33m\u001b[0m\u001b[0m\n\u001b[0;32m   2791\u001b[0m \u001b[1;33m\u001b[0m\u001b[0m\n",
      "\u001b[1;32mC:\\ProgramData\\Anaconda3\\lib\\site-packages\\matplotlib\\axes\\_axes.py\u001b[0m in \u001b[0;36mplot\u001b[1;34m(self, scalex, scaley, data, *args, **kwargs)\u001b[0m\n\u001b[0;32m   1664\u001b[0m         \"\"\"\n\u001b[0;32m   1665\u001b[0m         \u001b[0mkwargs\u001b[0m \u001b[1;33m=\u001b[0m \u001b[0mcbook\u001b[0m\u001b[1;33m.\u001b[0m\u001b[0mnormalize_kwargs\u001b[0m\u001b[1;33m(\u001b[0m\u001b[0mkwargs\u001b[0m\u001b[1;33m,\u001b[0m \u001b[0mmlines\u001b[0m\u001b[1;33m.\u001b[0m\u001b[0mLine2D\u001b[0m\u001b[1;33m.\u001b[0m\u001b[0m_alias_map\u001b[0m\u001b[1;33m)\u001b[0m\u001b[1;33m\u001b[0m\u001b[1;33m\u001b[0m\u001b[0m\n\u001b[1;32m-> 1666\u001b[1;33m         \u001b[0mlines\u001b[0m \u001b[1;33m=\u001b[0m \u001b[1;33m[\u001b[0m\u001b[1;33m*\u001b[0m\u001b[0mself\u001b[0m\u001b[1;33m.\u001b[0m\u001b[0m_get_lines\u001b[0m\u001b[1;33m(\u001b[0m\u001b[1;33m*\u001b[0m\u001b[0margs\u001b[0m\u001b[1;33m,\u001b[0m \u001b[0mdata\u001b[0m\u001b[1;33m=\u001b[0m\u001b[0mdata\u001b[0m\u001b[1;33m,\u001b[0m \u001b[1;33m**\u001b[0m\u001b[0mkwargs\u001b[0m\u001b[1;33m)\u001b[0m\u001b[1;33m]\u001b[0m\u001b[1;33m\u001b[0m\u001b[1;33m\u001b[0m\u001b[0m\n\u001b[0m\u001b[0;32m   1667\u001b[0m         \u001b[1;32mfor\u001b[0m \u001b[0mline\u001b[0m \u001b[1;32min\u001b[0m \u001b[0mlines\u001b[0m\u001b[1;33m:\u001b[0m\u001b[1;33m\u001b[0m\u001b[1;33m\u001b[0m\u001b[0m\n\u001b[0;32m   1668\u001b[0m             \u001b[0mself\u001b[0m\u001b[1;33m.\u001b[0m\u001b[0madd_line\u001b[0m\u001b[1;33m(\u001b[0m\u001b[0mline\u001b[0m\u001b[1;33m)\u001b[0m\u001b[1;33m\u001b[0m\u001b[1;33m\u001b[0m\u001b[0m\n",
      "\u001b[1;32mC:\\ProgramData\\Anaconda3\\lib\\site-packages\\matplotlib\\axes\\_base.py\u001b[0m in \u001b[0;36m__call__\u001b[1;34m(self, *args, **kwargs)\u001b[0m\n\u001b[0;32m    223\u001b[0m                 \u001b[0mthis\u001b[0m \u001b[1;33m+=\u001b[0m \u001b[0margs\u001b[0m\u001b[1;33m[\u001b[0m\u001b[1;36m0\u001b[0m\u001b[1;33m]\u001b[0m\u001b[1;33m,\u001b[0m\u001b[1;33m\u001b[0m\u001b[1;33m\u001b[0m\u001b[0m\n\u001b[0;32m    224\u001b[0m                 \u001b[0margs\u001b[0m \u001b[1;33m=\u001b[0m \u001b[0margs\u001b[0m\u001b[1;33m[\u001b[0m\u001b[1;36m1\u001b[0m\u001b[1;33m:\u001b[0m\u001b[1;33m]\u001b[0m\u001b[1;33m\u001b[0m\u001b[1;33m\u001b[0m\u001b[0m\n\u001b[1;32m--> 225\u001b[1;33m             \u001b[1;32myield\u001b[0m \u001b[1;32mfrom\u001b[0m \u001b[0mself\u001b[0m\u001b[1;33m.\u001b[0m\u001b[0m_plot_args\u001b[0m\u001b[1;33m(\u001b[0m\u001b[0mthis\u001b[0m\u001b[1;33m,\u001b[0m \u001b[0mkwargs\u001b[0m\u001b[1;33m)\u001b[0m\u001b[1;33m\u001b[0m\u001b[1;33m\u001b[0m\u001b[0m\n\u001b[0m\u001b[0;32m    226\u001b[0m \u001b[1;33m\u001b[0m\u001b[0m\n\u001b[0;32m    227\u001b[0m     \u001b[1;32mdef\u001b[0m \u001b[0mget_next_color\u001b[0m\u001b[1;33m(\u001b[0m\u001b[0mself\u001b[0m\u001b[1;33m)\u001b[0m\u001b[1;33m:\u001b[0m\u001b[1;33m\u001b[0m\u001b[1;33m\u001b[0m\u001b[0m\n",
      "\u001b[1;32mC:\\ProgramData\\Anaconda3\\lib\\site-packages\\matplotlib\\axes\\_base.py\u001b[0m in \u001b[0;36m_plot_args\u001b[1;34m(self, tup, kwargs)\u001b[0m\n\u001b[0;32m    403\u001b[0m                 \"non-matching shapes is deprecated.\")\n\u001b[0;32m    404\u001b[0m         \u001b[1;32mfor\u001b[0m \u001b[0mj\u001b[0m \u001b[1;32min\u001b[0m \u001b[0mrange\u001b[0m\u001b[1;33m(\u001b[0m\u001b[0mmax\u001b[0m\u001b[1;33m(\u001b[0m\u001b[0mncx\u001b[0m\u001b[1;33m,\u001b[0m \u001b[0mncy\u001b[0m\u001b[1;33m)\u001b[0m\u001b[1;33m)\u001b[0m\u001b[1;33m:\u001b[0m\u001b[1;33m\u001b[0m\u001b[1;33m\u001b[0m\u001b[0m\n\u001b[1;32m--> 405\u001b[1;33m             \u001b[0mseg\u001b[0m \u001b[1;33m=\u001b[0m \u001b[0mfunc\u001b[0m\u001b[1;33m(\u001b[0m\u001b[0mx\u001b[0m\u001b[1;33m[\u001b[0m\u001b[1;33m:\u001b[0m\u001b[1;33m,\u001b[0m \u001b[0mj\u001b[0m \u001b[1;33m%\u001b[0m \u001b[0mncx\u001b[0m\u001b[1;33m]\u001b[0m\u001b[1;33m,\u001b[0m \u001b[0my\u001b[0m\u001b[1;33m[\u001b[0m\u001b[1;33m:\u001b[0m\u001b[1;33m,\u001b[0m \u001b[0mj\u001b[0m \u001b[1;33m%\u001b[0m \u001b[0mncy\u001b[0m\u001b[1;33m]\u001b[0m\u001b[1;33m,\u001b[0m \u001b[0mkw\u001b[0m\u001b[1;33m,\u001b[0m \u001b[0mkwargs\u001b[0m\u001b[1;33m)\u001b[0m\u001b[1;33m\u001b[0m\u001b[1;33m\u001b[0m\u001b[0m\n\u001b[0m\u001b[0;32m    406\u001b[0m             \u001b[0mret\u001b[0m\u001b[1;33m.\u001b[0m\u001b[0mappend\u001b[0m\u001b[1;33m(\u001b[0m\u001b[0mseg\u001b[0m\u001b[1;33m)\u001b[0m\u001b[1;33m\u001b[0m\u001b[1;33m\u001b[0m\u001b[0m\n\u001b[0;32m    407\u001b[0m         \u001b[1;32mreturn\u001b[0m \u001b[0mret\u001b[0m\u001b[1;33m\u001b[0m\u001b[1;33m\u001b[0m\u001b[0m\n",
      "\u001b[1;32mC:\\ProgramData\\Anaconda3\\lib\\site-packages\\matplotlib\\axes\\_base.py\u001b[0m in \u001b[0;36m_makeline\u001b[1;34m(self, x, y, kw, kwargs)\u001b[0m\n\u001b[0;32m    310\u001b[0m         \u001b[0mdefault_dict\u001b[0m \u001b[1;33m=\u001b[0m \u001b[0mself\u001b[0m\u001b[1;33m.\u001b[0m\u001b[0m_getdefaults\u001b[0m\u001b[1;33m(\u001b[0m\u001b[0mset\u001b[0m\u001b[1;33m(\u001b[0m\u001b[1;33m)\u001b[0m\u001b[1;33m,\u001b[0m \u001b[0mkw\u001b[0m\u001b[1;33m)\u001b[0m\u001b[1;33m\u001b[0m\u001b[1;33m\u001b[0m\u001b[0m\n\u001b[0;32m    311\u001b[0m         \u001b[0mself\u001b[0m\u001b[1;33m.\u001b[0m\u001b[0m_setdefaults\u001b[0m\u001b[1;33m(\u001b[0m\u001b[0mdefault_dict\u001b[0m\u001b[1;33m,\u001b[0m \u001b[0mkw\u001b[0m\u001b[1;33m)\u001b[0m\u001b[1;33m\u001b[0m\u001b[1;33m\u001b[0m\u001b[0m\n\u001b[1;32m--> 312\u001b[1;33m         \u001b[0mseg\u001b[0m \u001b[1;33m=\u001b[0m \u001b[0mmlines\u001b[0m\u001b[1;33m.\u001b[0m\u001b[0mLine2D\u001b[0m\u001b[1;33m(\u001b[0m\u001b[0mx\u001b[0m\u001b[1;33m,\u001b[0m \u001b[0my\u001b[0m\u001b[1;33m,\u001b[0m \u001b[1;33m**\u001b[0m\u001b[0mkw\u001b[0m\u001b[1;33m)\u001b[0m\u001b[1;33m\u001b[0m\u001b[1;33m\u001b[0m\u001b[0m\n\u001b[0m\u001b[0;32m    313\u001b[0m         \u001b[1;32mreturn\u001b[0m \u001b[0mseg\u001b[0m\u001b[1;33m\u001b[0m\u001b[1;33m\u001b[0m\u001b[0m\n\u001b[0;32m    314\u001b[0m \u001b[1;33m\u001b[0m\u001b[0m\n",
      "\u001b[1;32mC:\\ProgramData\\Anaconda3\\lib\\site-packages\\matplotlib\\lines.py\u001b[0m in \u001b[0;36m__init__\u001b[1;34m(self, xdata, ydata, linewidth, linestyle, color, marker, markersize, markeredgewidth, markeredgecolor, markerfacecolor, markerfacecoloralt, fillstyle, antialiased, dash_capstyle, solid_capstyle, dash_joinstyle, solid_joinstyle, pickradius, drawstyle, markevery, **kwargs)\u001b[0m\n\u001b[0;32m    402\u001b[0m         \u001b[1;31m# update kwargs before updating data to give the caller a\u001b[0m\u001b[1;33m\u001b[0m\u001b[1;33m\u001b[0m\u001b[1;33m\u001b[0m\u001b[0m\n\u001b[0;32m    403\u001b[0m         \u001b[1;31m# chance to init axes (and hence unit support)\u001b[0m\u001b[1;33m\u001b[0m\u001b[1;33m\u001b[0m\u001b[1;33m\u001b[0m\u001b[0m\n\u001b[1;32m--> 404\u001b[1;33m         \u001b[0mself\u001b[0m\u001b[1;33m.\u001b[0m\u001b[0mupdate\u001b[0m\u001b[1;33m(\u001b[0m\u001b[0mkwargs\u001b[0m\u001b[1;33m)\u001b[0m\u001b[1;33m\u001b[0m\u001b[1;33m\u001b[0m\u001b[0m\n\u001b[0m\u001b[0;32m    405\u001b[0m         \u001b[0mself\u001b[0m\u001b[1;33m.\u001b[0m\u001b[0mpickradius\u001b[0m \u001b[1;33m=\u001b[0m \u001b[0mpickradius\u001b[0m\u001b[1;33m\u001b[0m\u001b[1;33m\u001b[0m\u001b[0m\n\u001b[0;32m    406\u001b[0m         \u001b[0mself\u001b[0m\u001b[1;33m.\u001b[0m\u001b[0mind_offset\u001b[0m \u001b[1;33m=\u001b[0m \u001b[1;36m0\u001b[0m\u001b[1;33m\u001b[0m\u001b[1;33m\u001b[0m\u001b[0m\n",
      "\u001b[1;32mC:\\ProgramData\\Anaconda3\\lib\\site-packages\\matplotlib\\artist.py\u001b[0m in \u001b[0;36mupdate\u001b[1;34m(self, props)\u001b[0m\n\u001b[0;32m    955\u001b[0m \u001b[1;33m\u001b[0m\u001b[0m\n\u001b[0;32m    956\u001b[0m         \u001b[1;32mwith\u001b[0m \u001b[0mcbook\u001b[0m\u001b[1;33m.\u001b[0m\u001b[0m_setattr_cm\u001b[0m\u001b[1;33m(\u001b[0m\u001b[0mself\u001b[0m\u001b[1;33m,\u001b[0m \u001b[0meventson\u001b[0m\u001b[1;33m=\u001b[0m\u001b[1;32mFalse\u001b[0m\u001b[1;33m)\u001b[0m\u001b[1;33m:\u001b[0m\u001b[1;33m\u001b[0m\u001b[1;33m\u001b[0m\u001b[0m\n\u001b[1;32m--> 957\u001b[1;33m             \u001b[0mret\u001b[0m \u001b[1;33m=\u001b[0m \u001b[1;33m[\u001b[0m\u001b[0m_update_property\u001b[0m\u001b[1;33m(\u001b[0m\u001b[0mself\u001b[0m\u001b[1;33m,\u001b[0m \u001b[0mk\u001b[0m\u001b[1;33m,\u001b[0m \u001b[0mv\u001b[0m\u001b[1;33m)\u001b[0m \u001b[1;32mfor\u001b[0m \u001b[0mk\u001b[0m\u001b[1;33m,\u001b[0m \u001b[0mv\u001b[0m \u001b[1;32min\u001b[0m \u001b[0mprops\u001b[0m\u001b[1;33m.\u001b[0m\u001b[0mitems\u001b[0m\u001b[1;33m(\u001b[0m\u001b[1;33m)\u001b[0m\u001b[1;33m]\u001b[0m\u001b[1;33m\u001b[0m\u001b[1;33m\u001b[0m\u001b[0m\n\u001b[0m\u001b[0;32m    958\u001b[0m \u001b[1;33m\u001b[0m\u001b[0m\n\u001b[0;32m    959\u001b[0m         \u001b[1;32mif\u001b[0m \u001b[0mlen\u001b[0m\u001b[1;33m(\u001b[0m\u001b[0mret\u001b[0m\u001b[1;33m)\u001b[0m\u001b[1;33m:\u001b[0m\u001b[1;33m\u001b[0m\u001b[1;33m\u001b[0m\u001b[0m\n",
      "\u001b[1;32mC:\\ProgramData\\Anaconda3\\lib\\site-packages\\matplotlib\\artist.py\u001b[0m in \u001b[0;36m<listcomp>\u001b[1;34m(.0)\u001b[0m\n\u001b[0;32m    955\u001b[0m \u001b[1;33m\u001b[0m\u001b[0m\n\u001b[0;32m    956\u001b[0m         \u001b[1;32mwith\u001b[0m \u001b[0mcbook\u001b[0m\u001b[1;33m.\u001b[0m\u001b[0m_setattr_cm\u001b[0m\u001b[1;33m(\u001b[0m\u001b[0mself\u001b[0m\u001b[1;33m,\u001b[0m \u001b[0meventson\u001b[0m\u001b[1;33m=\u001b[0m\u001b[1;32mFalse\u001b[0m\u001b[1;33m)\u001b[0m\u001b[1;33m:\u001b[0m\u001b[1;33m\u001b[0m\u001b[1;33m\u001b[0m\u001b[0m\n\u001b[1;32m--> 957\u001b[1;33m             \u001b[0mret\u001b[0m \u001b[1;33m=\u001b[0m \u001b[1;33m[\u001b[0m\u001b[0m_update_property\u001b[0m\u001b[1;33m(\u001b[0m\u001b[0mself\u001b[0m\u001b[1;33m,\u001b[0m \u001b[0mk\u001b[0m\u001b[1;33m,\u001b[0m \u001b[0mv\u001b[0m\u001b[1;33m)\u001b[0m \u001b[1;32mfor\u001b[0m \u001b[0mk\u001b[0m\u001b[1;33m,\u001b[0m \u001b[0mv\u001b[0m \u001b[1;32min\u001b[0m \u001b[0mprops\u001b[0m\u001b[1;33m.\u001b[0m\u001b[0mitems\u001b[0m\u001b[1;33m(\u001b[0m\u001b[1;33m)\u001b[0m\u001b[1;33m]\u001b[0m\u001b[1;33m\u001b[0m\u001b[1;33m\u001b[0m\u001b[0m\n\u001b[0m\u001b[0;32m    958\u001b[0m \u001b[1;33m\u001b[0m\u001b[0m\n\u001b[0;32m    959\u001b[0m         \u001b[1;32mif\u001b[0m \u001b[0mlen\u001b[0m\u001b[1;33m(\u001b[0m\u001b[0mret\u001b[0m\u001b[1;33m)\u001b[0m\u001b[1;33m:\u001b[0m\u001b[1;33m\u001b[0m\u001b[1;33m\u001b[0m\u001b[0m\n",
      "\u001b[1;32mC:\\ProgramData\\Anaconda3\\lib\\site-packages\\matplotlib\\artist.py\u001b[0m in \u001b[0;36m_update_property\u001b[1;34m(self, k, v)\u001b[0m\n\u001b[0;32m    951\u001b[0m                 \u001b[1;32mif\u001b[0m \u001b[1;32mnot\u001b[0m \u001b[0mcallable\u001b[0m\u001b[1;33m(\u001b[0m\u001b[0mfunc\u001b[0m\u001b[1;33m)\u001b[0m\u001b[1;33m:\u001b[0m\u001b[1;33m\u001b[0m\u001b[1;33m\u001b[0m\u001b[0m\n\u001b[0;32m    952\u001b[0m                     raise AttributeError('{!r} object has no property {!r}'\n\u001b[1;32m--> 953\u001b[1;33m                                          .format(type(self).__name__, k))\n\u001b[0m\u001b[0;32m    954\u001b[0m                 \u001b[1;32mreturn\u001b[0m \u001b[0mfunc\u001b[0m\u001b[1;33m(\u001b[0m\u001b[0mv\u001b[0m\u001b[1;33m)\u001b[0m\u001b[1;33m\u001b[0m\u001b[1;33m\u001b[0m\u001b[0m\n\u001b[0;32m    955\u001b[0m \u001b[1;33m\u001b[0m\u001b[0m\n",
      "\u001b[1;31mAttributeError\u001b[0m: 'Line2D' object has no property 'type'"
     ]
    },
    {
     "data": {
      "image/png": "[encoded data removed]",
      "text/plain": [
       "<Figure size 432x288 with 1 Axes>"
      ]
     },
     "metadata": {
      "needs_background": "light"
     },
     "output_type": "display_data"
    }
   ],
   "source": [
    "plt.plot(ww, type=\"pie-chart\")"
   ]
  },
  {
   "cell_type": "code",
   "execution_count": 29,
   "metadata": {},
   "outputs": [
    {
     "name": "stdout",
     "output_type": "stream",
     "text": [
      "     CustomerID   Genre  Age  Annual_Income_(k$)  Spending_Score\n",
      "3             4  Female   23                  16              77\n",
      "5             6  Female   22                  17              76\n",
      "7             8  Female   23                  18              94\n",
      "9            10  Female   30                  19              72\n",
      "11           12  Female   35                  19              99\n",
      "13           14  Female   24                  20              77\n",
      "19           20  Female   35                  23              98\n",
      "29           30  Female   23                  29              87\n",
      "31           32  Female   21                  30              73\n",
      "35           36  Female   21                  33              81\n",
      "37           38  Female   30                  34              73\n",
      "39           40  Female   20                  37              75\n",
      "43           44  Female   31                  39              61\n",
      "45           46  Female   24                  39              65\n",
      "46           47  Female   50                  40              55\n",
      "47           48  Female   27                  40              47\n",
      "50           51  Female   49                  42              52\n",
      "52           53  Female   31                  43              54\n",
      "54           55  Female   50                  43              45\n",
      "56           57  Female   51                  44              50\n",
      "58           59  Female   27                  46              51\n",
      "62           63  Female   67                  47              52\n",
      "63           64  Female   54                  47              59\n",
      "66           67  Female   43                  48              50\n",
      "67           68  Female   68                  48              48\n",
      "69           70  Female   32                  48              47\n",
      "72           73  Female   60                  50              49\n",
      "73           74  Female   60                  50              56\n",
      "76           77  Female   45                  54              53\n",
      "78           79  Female   23                  54              52\n",
      "..          ...     ...  ...                 ...             ...\n",
      "106         107  Female   66                  63              50\n",
      "111         112  Female   19                  63              54\n",
      "114         115  Female   18                  65              48\n",
      "115         116  Female   19                  65              50\n",
      "116         117  Female   63                  65              43\n",
      "117         118  Female   49                  65              59\n",
      "118         119  Female   51                  67              43\n",
      "119         120  Female   50                  67              57\n",
      "122         123  Female   40                  69              58\n",
      "125         126  Female   31                  70              77\n",
      "133         134  Female   31                  72              71\n",
      "135         136  Female   29                  73              88\n",
      "139         140  Female   35                  74              72\n",
      "143         144  Female   32                  76              87\n",
      "147         148  Female   32                  77              74\n",
      "153         154  Female   38                  78              76\n",
      "155         156  Female   27                  78              89\n",
      "157         158  Female   30                  78              78\n",
      "159         160  Female   30                  78              73\n",
      "161         162  Female   29                  79              83\n",
      "163         164  Female   31                  81              93\n",
      "165         166  Female   36                  85              75\n",
      "167         168  Female   33                  86              95\n",
      "175         176  Female   30                  88              86\n",
      "181         182  Female   32                  97              86\n",
      "183         184  Female   29                  98              88\n",
      "189         190  Female   36                 103              85\n",
      "191         192  Female   32                 103              69\n",
      "193         194  Female   38                 113              91\n",
      "195         196  Female   35                 120              79\n",
      "\n",
      "[70 rows x 5 columns]\n"
     ]
    }
   ],
   "source": [
    "w1 = df[df['Genre'] == 'Female']\n",
    "print(w1[w1['Spending_Score'] > 42])"
   ]
  },
  {
   "cell_type": "code",
   "execution_count": 33,
   "metadata": {},
   "outputs": [
    {
     "name": "stdout",
     "output_type": "stream",
     "text": [
      "   CustomerID Genre  Age  Annual_Income_(k$)  Spending_Score\n",
      "0           1  Male   19                  15              39\n",
      "1           2  Male   21                  15              81\n",
      "     CustomerID Genre  Age  Annual_Income_(k$)  Spending_Score\n",
      "198         199  Male   32                 137              18\n",
      "199         200  Male   30                 137              83\n"
     ]
    }
   ],
   "source": [
    "w1 = df[df['Genre'] == 'Male']\n",
    "print(w1[w1['Annual_Income_(k$)'] == df['Annual_Income_(k$)'].min()])\n",
    "print(w1[w1['Annual_Income_(k$)'] == df['Annual_Income_(k$)'].max()])"
   ]
  },
  {
   "cell_type": "code",
   "execution_count": null,
   "metadata": {},
   "outputs": [],
   "source": []
  }
 ],
 "metadata": {
  "kernelspec": {
   "display_name": "Python 3",
   "language": "python",
   "name": "python3"
  },
  "language_info": {
   "codemirror_mode": {
    "name": "ipython",
    "version": 3
   },
   "file_extension": ".py",
   "mimetype": "text/x-python",
   "name": "python",
   "nbconvert_exporter": "python",
   "pygments_lexer": "ipython3",
   "version": "3.7.3"
  }
 },
 "nbformat": 4,
 "nbformat_minor": 2
}
